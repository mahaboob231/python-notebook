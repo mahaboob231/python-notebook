{
 "cells": [
  {
   "cell_type": "markdown",
   "metadata": {},
   "source": [
    "# Day Objectives\n",
    "- String Slicing\n",
    "- Functions in Python\n",
    "- Basic problems related to conditional statements using python\n",
    "- Iterations in python\n",
    "- Python DataStructures-Lists,Tuples and Dictionaries\n",
    "- Basic Operations on Datastructures\n",
    "- Applying Datastructures to solve problems"
   ]
  },
  {
   "cell_type": "code",
   "execution_count": null,
   "metadata": {},
   "outputs": [],
   "source": []
  },
  {
   "cell_type": "markdown",
   "metadata": {},
   "source": [
    "## String Slicing"
   ]
  },
  {
   "cell_type": "code",
   "execution_count": 33,
   "metadata": {},
   "outputs": [
    {
     "data": {
      "text/plain": [
       "''"
      ]
     },
     "execution_count": 33,
     "metadata": {},
     "output_type": "execute_result"
    }
   ],
   "source": [
    "a1 = \"python\"\n",
    "\n",
    "a1[0] # Accessing the first character of string\n",
    "\n",
    "a1[len(a1)-1] # Accessing the last character in string\n",
    "\n",
    "a1[-1] # Another of accessing last character\n",
    "\n",
    "a1[-2] # Accessing the penultimate character of a string\n",
    "\n",
    "a1[0:2] # Accessing the first two characters of string\n",
    "\n",
    "a1[-2:] # Accessing the last two characters of string\n",
    "\n",
    "a1[4:] # Accessing all characters from the fourth character\n",
    "\n",
    "a1[1:len(a1)-1]# Accessing all characters except first and last characters\n",
    "a1[1:-1] # Anpther way of accessing all characters except first and last characters\n",
    "\n",
    "a1[len(a1)//2] # Accessing the middle character of an odd length string\n",
    "\n",
    "a1[-1::-1] # Reverse of String\n",
    "\n",
    "a1[-1:-3:-1] # Access last two characters of a string in reverse order\n",
    "\n",
    "a1[(len(a1)//2):(len(a1)//2)+2:-1]# Reverse the middle two characters in a even string\n",
    "\n",
    "\n",
    "a1[::-2]# Accessing the alternate characters of a string in reverse order    / python ---> nhy\n"
   ]
  },
  {
   "cell_type": "code",
   "execution_count": null,
   "metadata": {},
   "outputs": [],
   "source": []
  },
  {
   "cell_type": "markdown",
   "metadata": {},
   "source": [
    "## Functions"
   ]
  },
  {
   "cell_type": "code",
   "execution_count": 35,
   "metadata": {},
   "outputs": [
    {
     "data": {
      "text/plain": [
       "'nohtyp'"
      ]
     },
     "execution_count": 35,
     "metadata": {},
     "output_type": "execute_result"
    }
   ],
   "source": [
    "# Function in reverse a string\n",
    "def reverseString(a):\n",
    "    return a[::-1]\n",
    "reverseString(a1)\n"
   ]
  },
  {
   "cell_type": "code",
   "execution_count": 44,
   "metadata": {},
   "outputs": [
    {
     "data": {
      "text/plain": [
       "True"
      ]
     },
     "execution_count": 44,
     "metadata": {},
     "output_type": "execute_result"
    }
   ],
   "source": [
    "# Function to check if a string is a Palindrome\n",
    "\n",
    "def Palindrome(s):\n",
    "    if s == s[::-1]:\n",
    "        return True\n",
    "    else:\n",
    "        return False\n",
    "Palindrome(\"tit\")\n"
   ]
  },
  {
   "cell_type": "code",
   "execution_count": 11,
   "metadata": {},
   "outputs": [],
   "source": [
    "# Function to check if a given year is a leap year\n",
    "def isLeapYear(year):\n",
    "    if year % 400 == 0 or (year % 100 !=0 and year % 4 == 0):\n",
    "        return True\n",
    "    else:\n",
    "        return False\n",
    "#isLeapYear(1904)"
   ]
  },
  {
   "cell_type": "code",
   "execution_count": 56,
   "metadata": {},
   "outputs": [
    {
     "data": {
      "text/plain": [
       "6"
      ]
     },
     "execution_count": 56,
     "metadata": {},
     "output_type": "execute_result"
    }
   ],
   "source": [
    "# Function to count the number of digits in a given number\n",
    "def countdigit(a):\n",
    "    return len(str(a))\n",
    "countdigit(123456)"
   ]
  },
  {
   "cell_type": "code",
   "execution_count": 57,
   "metadata": {},
   "outputs": [
    {
     "data": {
      "text/plain": [
       "677"
      ]
     },
     "execution_count": 57,
     "metadata": {},
     "output_type": "execute_result"
    }
   ],
   "source": [
    "# Function to identify the greatest of 4 numbers\n",
    "def greatest4(n1,n2,n3,n4):\n",
    "    if n1>n2 and n1>n3 and n1>n4:\n",
    "        return n1\n",
    "    elif n2>n3 and n2>n4:\n",
    "        return n2\n",
    "    elif n3>n4:\n",
    "        return n3\n",
    "    else:\n",
    "        return n4\n",
    "greatest4(1,34,23,677)"
   ]
  },
  {
   "cell_type": "code",
   "execution_count": null,
   "metadata": {},
   "outputs": [],
   "source": []
  },
  {
   "cell_type": "markdown",
   "metadata": {},
   "source": [
    "### Iteration\n",
    "- for\n",
    "- while"
   ]
  },
  {
   "cell_type": "code",
   "execution_count": 60,
   "metadata": {},
   "outputs": [
    {
     "name": "stdout",
     "output_type": "stream",
     "text": [
      "1 2 3 4 5 6 7 8 9 10 "
     ]
    }
   ],
   "source": [
    "# Function to print n natural numbers\n",
    "\n",
    "def printNaturalnum(n):\n",
    "    for i in range(1,n+1):\n",
    "        print(i,end=\" \")\n",
    "    return\n",
    "printNaturalnum(10)\n",
    "        \n"
   ]
  },
  {
   "cell_type": "code",
   "execution_count": 64,
   "metadata": {},
   "outputs": [
    {
     "name": "stdout",
     "output_type": "stream",
     "text": [
      "1 2 3 4 5 6 7 8 9 10 "
     ]
    }
   ],
   "source": [
    "# Function to print n natural numbers using while loop\n",
    "\n",
    "def printNaturalnum(n):\n",
    "    counter = 1\n",
    "    while counter <= n:\n",
    "        print(counter,end=\" \")\n",
    "        counter = counter+1\n",
    "    return\n",
    "printNaturalnum(10)\n"
   ]
  },
  {
   "cell_type": "code",
   "execution_count": 105,
   "metadata": {},
   "outputs": [
    {
     "name": "stdout",
     "output_type": "stream",
     "text": [
      "6 12 18 24 30 36 42 48 54 60 66 72 78 84 90 96 102 108 114 120 126 132 138 144 150 156 162 168 174 180 186 192 198 204 210 216 222 228 234 240 246 252 258 264 270 276 282 288 "
     ]
    }
   ],
   "source": [
    "# Function to print all numbers divisible by 6 and not a factor of 100 in a given range lb,ub inclusive \n",
    "def divv(lb,ub):\n",
    "    for i in range(lb,ub+1):\n",
    "        if i%6 == 0 and 100%i != 0:\n",
    "            print(i,end=\" \")\n",
    "    return\n",
    "divv(2,289)"
   ]
  },
  {
   "cell_type": "code",
   "execution_count": 70,
   "metadata": {},
   "outputs": [
    {
     "name": "stdout",
     "output_type": "stream",
     "text": [
      "36.0 "
     ]
    }
   ],
   "source": [
    "# Function to  find the average of cubes all even numbers in a given range(lb,ub)\n",
    "l=[]\n",
    "def avg(lb,ub):\n",
    "    count = 0\n",
    "    for i in range(lb,ub+1):\n",
    "        if i%2 == 0:\n",
    "            count+=1\n",
    "            l.append(i**3)\n",
    "    print(sum(l)/count,end=\" \")\n",
    "    return\n",
    "avg(2,5)\n",
    "        \n",
    "    \n"
   ]
  },
  {
   "cell_type": "code",
   "execution_count": 72,
   "metadata": {},
   "outputs": [
    {
     "name": "stdout",
     "output_type": "stream",
     "text": [
      "1 2 3 4 6 12 "
     ]
    }
   ],
   "source": [
    "# Function to generate the list of factors for a given number\n",
    "def fact(n):\n",
    "    for i in range(1,n+1):\n",
    "        if n%i == 0:\n",
    "            print(i,end=\" \")\n",
    "    return\n",
    "fact(12)"
   ]
  },
  {
   "cell_type": "code",
   "execution_count": 75,
   "metadata": {},
   "outputs": [
    {
     "name": "stdout",
     "output_type": "stream",
     "text": [
      "120\n"
     ]
    }
   ],
   "source": [
    "# Function to calculate the factorial of a given number\n",
    "def fact(n):\n",
    "    facto=1\n",
    "    for i in range(1,n+1):\n",
    "        facto=facto*i\n",
    "    return facto\n",
    "k=fact(5)\n",
    "print(k)\n",
    "        \n",
    "        "
   ]
  },
  {
   "cell_type": "code",
   "execution_count": 24,
   "metadata": {},
   "outputs": [
    {
     "data": {
      "text/plain": [
       "'Prime'"
      ]
     },
     "execution_count": 24,
     "metadata": {},
     "output_type": "execute_result"
    }
   ],
   "source": [
    "# Function to check a given number is prime\n",
    "def isprime(n):\n",
    "    count=0\n",
    "    for i in range(1,n+1):\n",
    "        if n%i == 0:\n",
    "            count=count+1\n",
    "    if count == 2:\n",
    "        return \"Prime\"\n",
    "    else:\n",
    "        return \"Not Prime\"\n",
    "isprime(3)\n"
   ]
  },
  {
   "cell_type": "code",
   "execution_count": 94,
   "metadata": {},
   "outputs": [
    {
     "name": "stdout",
     "output_type": "stream",
     "text": [
      "42.4\n",
      "1060\n",
      "25\n"
     ]
    }
   ],
   "source": [
    "# Fuction to calculate the average first N prime numbers\n",
    "def isprime(n):\n",
    "    sum = 0\n",
    "    tot = 0\n",
    "    for i in range(1,n+1):\n",
    "        count= 0\n",
    "        for j in range(1,n+1):\n",
    "            if i%j == 0:\n",
    "                count=count+1\n",
    "        if count == 2:\n",
    "            tot = tot+1\n",
    "            sum = sum+i\n",
    "    print(sum/tot)\n",
    "    print(sum)\n",
    "    print(tot)\n",
    "    return\n",
    "isprime(100)\n",
    "            \n",
    "        \n"
   ]
  },
  {
   "cell_type": "code",
   "execution_count": 16,
   "metadata": {},
   "outputs": [
    {
     "name": "stdout",
     "output_type": "stream",
     "text": [
      "6 "
     ]
    }
   ],
   "source": [
    "# Function to generate all perfect numbers in a given range\n",
    "def pfct(lb,ub):\n",
    "    for i in range(lb,ub+1):\n",
    "        sum = 0\n",
    "        for j in range(1,i):\n",
    "            if i%j == 0:\n",
    "                sum =sum + j\n",
    "        if sum == i:\n",
    "            print(i,end=\" \")\n",
    "    return\n",
    "pfct(1,6)\n",
    "        \n",
    "        \n"
   ]
  },
  {
   "cell_type": "code",
   "execution_count": 23,
   "metadata": {},
   "outputs": [
    {
     "name": "stdout",
     "output_type": "stream",
     "text": [
      "1 3 5 7 9 "
     ]
    }
   ],
   "source": [
    "# Functio to generate alternate values in a given range\n",
    "def alternate(lb,ub):\n",
    "    for i in range(lb,ub+1,2):\n",
    "        print(i,end=\" \")\n",
    "    return\n",
    "alternate(1,10)\n",
    "        \n",
    "        "
   ]
  },
  {
   "cell_type": "code",
   "execution_count": 20,
   "metadata": {},
   "outputs": [
    {
     "name": "stdout",
     "output_type": "stream",
     "text": [
      "10 9 8 7 6 5 4 3 2 1 "
     ]
    }
   ],
   "source": [
    "# Function to print reverse of given range in the same line\n",
    "def rev(lb,ub):\n",
    "    for i in range(ub,lb-1,-1):\n",
    "        print(i,end=\" \")\n",
    "    return\n",
    "rev(1,10)"
   ]
  },
  {
   "cell_type": "code",
   "execution_count": 21,
   "metadata": {},
   "outputs": [
    {
     "name": "stdout",
     "output_type": "stream",
     "text": [
      "9 7 5 3 1 "
     ]
    }
   ],
   "source": [
    "# Function to print only odd values in a reverse order in a range\n",
    "def revodd(lb,ub):\n",
    "    for i in range (ub,lb-1,-1):\n",
    "        if i%2 != 0:\n",
    "            print(i,end=\" \")\n",
    "    return\n",
    "revodd(1,10)"
   ]
  },
  {
   "cell_type": "markdown",
   "metadata": {},
   "source": [
    "## Advanced Problem Set"
   ]
  },
  {
   "cell_type": "code",
   "execution_count": 12,
   "metadata": {},
   "outputs": [
    {
     "name": "stdout",
     "output_type": "stream",
     "text": [
      "average of all factors of a 1 is 1.0\n",
      "average of all factors of a 2 is 1.5\n",
      "average of all factors of a 3 is 2.0\n"
     ]
    }
   ],
   "source": [
    "# Function to generate average of all factors in a given range\n",
    "def avgfact(lb,ub):\n",
    "    for i in range(lb,ub+1):\n",
    "        sum=0\n",
    "        count=0\n",
    "        for j in range(1,i+1):\n",
    "            if i%j == 0:\n",
    "                sum=sum+j\n",
    "                count=count+1\n",
    "        print(\"average of all factors of a\",i,\"is\",sum/count)\n",
    "    return\n",
    "avgfact(1,3)\n",
    "        \n",
    "                \n",
    "    "
   ]
  },
  {
   "cell_type": "code",
   "execution_count": 28,
   "metadata": {},
   "outputs": [
    {
     "name": "stdout",
     "output_type": "stream",
     "text": [
      "1 3 5 7 9 153 371 "
     ]
    }
   ],
   "source": [
    "# Function to generate N odd armstrong numbers\n",
    "def arms(n):\n",
    "    for num in range(1,n+1):\n",
    "        temp=num\n",
    "        sum=0\n",
    "        k=len(str(num))\n",
    "        while temp>0:\n",
    "            digit=temp%10\n",
    "            sum=sum+digit**k\n",
    "            temp=temp//10\n",
    "        if sum==num and num%2 !=0:\n",
    "            print(num,end=\" \")\n",
    "    return\n",
    "arms(400)\n",
    "        "
   ]
  },
  {
   "cell_type": "code",
   "execution_count": 15,
   "metadata": {},
   "outputs": [
    {
     "name": "stdout",
     "output_type": "stream",
     "text": [
      "5 * 3 =  15\n",
      "5 * 4 =  20\n",
      "5 * 5 =  25\n",
      "5 * 6 =  30\n"
     ]
    }
   ],
   "source": [
    "# Function to generate multiplication tables for a number in a given range inclusive \n",
    "def mult(n,lb,ub):\n",
    "    for i in range(lb,ub+1):\n",
    "        print(n,\"*\",i,\"= \",n*i)\n",
    "    return\n",
    "mult(5,3,6)"
   ]
  },
  {
   "cell_type": "code",
   "execution_count": 13,
   "metadata": {},
   "outputs": [
    {
     "name": "stdout",
     "output_type": "stream",
     "text": [
      "2000 2004 2008 2012 2016 "
     ]
    }
   ],
   "source": [
    "# Function to generate the leap years in a given time period\n",
    "def leaplist(lb,ub):\n",
    "    \n",
    "    for i in range(lb,ub+1):\n",
    "        if isLeapYear(i):\n",
    "            print(i,end=\" \")\n",
    "    return\n",
    "\n",
    "leaplist(2000,2019)\n",
    "\n",
    "        \n"
   ]
  },
  {
   "cell_type": "code",
   "execution_count": 19,
   "metadata": {},
   "outputs": [
    {
     "data": {
      "text/plain": [
       "8401"
      ]
     },
     "execution_count": 19,
     "metadata": {},
     "output_type": "execute_result"
    }
   ],
   "source": [
    "# Calculate the number of days in a given time period\n",
    "def daysinleap(lb,ub):\n",
    "    countly=0\n",
    "    countny=0\n",
    "    for i in range(lb,ub+1):\n",
    "        if isLeapYear(i):\n",
    "            countly=countly+1\n",
    "        else:\n",
    "            countny=countny+1\n",
    "    return countny*365+countly*366\n",
    "daysinleap(1976,1998)\n",
    "            "
   ]
  },
  {
   "cell_type": "code",
   "execution_count": 76,
   "metadata": {},
   "outputs": [
    {
     "data": {
      "text/plain": [
       "8552"
      ]
     },
     "execution_count": 76,
     "metadata": {},
     "output_type": "execute_result"
    }
   ],
   "source": [
    "#Function to calculate number of hours for a given period\n",
    "#(11,1975,3,1999)\n",
    "# 2,2016 6,2019\n",
    "# 3 steps\n",
    "  #1.start month year to end of year - calculate no days\n",
    "  #2.calculate days for all years between start year and endyear\n",
    "       # 2017,2018  365* no of years\n",
    "  #First six months - 1,3,4,5,6,7\n",
    "                    #All odd months have 31 days\n",
    "                    #All even months have 30 days\n",
    "  #last six months - 8,9,10,11,12\n",
    "                   #All even months have 31 days\n",
    "                   #All odd months have 30 days\n",
    "def daysinleap(lb,ub):\n",
    "    countly=0\n",
    "    countny=0\n",
    "    for i in range(lb+1,ub):\n",
    "        if isLeapYear(i):\n",
    "            countly=countly+1\n",
    "        else:\n",
    "            countny=countny+1\n",
    "    return countny*365+countly*366\n",
    "def numberOfHours(startmonth,startyear,endmonth,endyear):\n",
    "   days=0\n",
    "    days+=numberofdaysmonth(startmonth,startyear)\n",
    "    days+=daysinleap(startyear,endyear)\n",
    "    days+=numberofdaysmonth2(endmonth,endyear)\n",
    "    return days\n",
    "numberOfHours(11,1975,3,1999)   "
   ]
  },
  {
   "cell_type": "code",
   "execution_count": 58,
   "metadata": {},
   "outputs": [],
   "source": [
    "def numberofdaysmonth(month,year):\n",
    "    sum=0\n",
    "    while month<13:\n",
    "        if (month <= 7 and month % 2 != 0 and month != 2) or (month >=8 and month % 2 == 0):\n",
    "            sum = sum +31\n",
    "        elif month == 2:\n",
    "            if isLeapYear(year):\n",
    "                sum=sum+29\n",
    "            else:\n",
    "                sum=sum+28\n",
    "        else:\n",
    "            sum =sum +30\n",
    "        month=month+1\n",
    "    return sum\n",
    "#numberofdaysmonth(3,2016)"
   ]
  },
  {
   "cell_type": "code",
   "execution_count": 59,
   "metadata": {},
   "outputs": [],
   "source": [
    "def numberofdaysmonth2(month2,year2):\n",
    "    sum=0\n",
    "    while month2!=0:\n",
    "        if (month2 <= 7 and month2 % 2 != 0 and month2 != 2) or (month2 >=8 and month2 % 2 == 0):\n",
    "            sum = sum +31\n",
    "        elif month2==2:\n",
    "            if isLeapYear(year2):\n",
    "                sum= sum+29\n",
    "            else:\n",
    "                sum=sum+28\n",
    "        else:\n",
    "            sum =sum +30\n",
    "            \n",
    "        month2=month2-1\n",
    "    return sum\n",
    "    \n",
    "#numberofdaysmonth(4,2018)"
   ]
  },
  {
   "cell_type": "code",
   "execution_count": null,
   "metadata": {},
   "outputs": [],
   "source": []
  }
 ],
 "metadata": {
  "kernelspec": {
   "display_name": "Python 3",
   "language": "python",
   "name": "python3"
  },
  "language_info": {
   "codemirror_mode": {
    "name": "ipython",
    "version": 3
   },
   "file_extension": ".py",
   "mimetype": "text/x-python",
   "name": "python",
   "nbconvert_exporter": "python",
   "pygments_lexer": "ipython3",
   "version": "3.7.3"
  }
 },
 "nbformat": 4,
 "nbformat_minor": 2
}
