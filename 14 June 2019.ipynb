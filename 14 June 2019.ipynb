{
 "cells": [
  {
   "cell_type": "markdown",
   "metadata": {},
   "source": [
    "### Problem solving and Programming in Python -Day 4\n",
    "\n",
    "#### Date - 14 June 2019\n",
    "\n",
    "#### Day Objectives\n",
    "- Python Data Structures\n",
    "    - Lists\n",
    "    - Tuples\n",
    "    - Dictionaries\n",
    "- Basic Problem set on Data Structures\n",
    "- Advance Problem set\n",
    "- Packages and Modules in Python"
   ]
  },
  {
   "cell_type": "code",
   "execution_count": null,
   "metadata": {},
   "outputs": [],
   "source": []
  },
  {
   "cell_type": "markdown",
   "metadata": {},
   "source": [
    "### Python Data Structures\n",
    "\n",
    "#### Lists"
   ]
  },
  {
   "cell_type": "code",
   "execution_count": 53,
   "metadata": {},
   "outputs": [
    {
     "name": "stdout",
     "output_type": "stream",
     "text": [
      "654\n",
      "345\n"
     ]
    },
    {
     "data": {
      "text/plain": [
       "[123, 234, 345, 456, 654, 789]"
      ]
     },
     "execution_count": 53,
     "metadata": {},
     "output_type": "execute_result"
    }
   ],
   "source": [
    "li = [123, 978, 654]\n",
    "li # Access the entire list\n",
    "\n",
    "li[1] # Access the second element in a list through index\n",
    "\n",
    "li[1:] # Access from second element to last element in a list\n",
    "\n",
    "li = li[::-1] # Access all elements in a list in reverse order\n",
    "\n",
    "li\n",
    "li = li[::-1] # Rearranging the original order\n",
    "li\n",
    "\n",
    "li[::2] # Accessing even index elements\n",
    "\n",
    "li[1::2] # Accesing odd elements\n",
    "\n",
    "#Lists can be accessed, manipulated in two different ways\n",
    "    # Direct Referencing - Accessing through [index]\n",
    "    # Indirect Referencing(preferred one)- Accessing through pre defined Functions\n",
    "\n",
    "li.append(345) # Adding an element to end of the list\n",
    "\n",
    "li.insert(1,234) # Adding an element at a particular index\n",
    "\n",
    "li.sort() # Sort elements in ascending order\n",
    "\n",
    "li.pop() # Remove the last element in list\n",
    "\n",
    "li.pop(1) # Remove an element at a particular index\n",
    "\n",
    "li2 = [234,456,789]\n",
    "\n",
    "li.extend(li2) # merge list2 into in list1\n",
    "\n",
    "sum(li) # Sum of all elements in a list\n",
    "max(li) # Maximum element in a list\n",
    "min(li) # Minimum element in a list\n",
    "len(li) # Number of elements in a list\n",
    "\n",
    "sum(li)/len(li) # Average of list li elements\n",
    "\n",
    "sum(li[::2])/len(li[::2]) # Average of all alternate elements in even position\n",
    "sum(li[1::2])/len(li[1::2]) # Average of all alternate elements in odd position\n",
    "\n",
    "# Fuction to identify the second largest element in a list\n",
    "    # Sort the data and select the second last element\n",
    "    # Sort the Data in reverse order, and select the second\n",
    "    # Remove the max element and then get the max of the\n",
    "    # \n",
    "\n",
    "def secondLargest(li):\n",
    "    li.sort()\n",
    "    print(li[len(li)-2])\n",
    "secondLargest(li)\n",
    "\n",
    "# Function to generate the nth largest\n",
    "def genericLargest(li,p ):\n",
    "    li.sort()\n",
    "    print(li[len(li)-p])\n",
    "genericLargest(li,4)\n",
    "li\n",
    "\n",
    "# Function to generate the nth largest number in a unique\n",
    "\n",
    "\n",
    "\n",
    "\n",
    "    \n",
    "\n",
    "\n",
    "\n",
    "\n",
    "\n",
    "\n",
    "\n",
    "\n"
   ]
  },
  {
   "cell_type": "code",
   "execution_count": 81,
   "metadata": {},
   "outputs": [
    {
     "data": {
      "text/plain": [
       "-1"
      ]
     },
     "execution_count": 81,
     "metadata": {},
     "output_type": "execute_result"
    }
   ],
   "source": [
    "# Function to search for data in alist\n",
    "def linearSearch(li,key):\n",
    "    for i in range(0,len(li)):\n",
    "        if li[i] == key:\n",
    "            return i\n",
    "    return -1\n",
    "linearSearch(li,234)\n",
    "\n",
    "def linearSearch(li,key):\n",
    "    for i in li:\n",
    "        if i == key:\n",
    "            return li.index(i)\n",
    "    return -1\n",
    "linearSearch(li,456)\n",
    "\n",
    "\n",
    "def linearSearch(li,key):\n",
    "    if key in li:\n",
    "        return li.index(key)\n",
    "    else:\n",
    "        return -1\n",
    "linearSearch(li,455)\n",
    "\n",
    "\n",
    "# \n",
    "\n",
    "\n"
   ]
  },
  {
   "cell_type": "code",
   "execution_count": 96,
   "metadata": {},
   "outputs": [
    {
     "data": {
      "text/plain": [
       "3"
      ]
     },
     "execution_count": 96,
     "metadata": {},
     "output_type": "execute_result"
    }
   ],
   "source": [
    "# Function to count the occurences of a character in a string\n",
    "#\"Python Programming\" ,m --> 2\n",
    "def counChartOccurences(s1,c):\n",
    "    if c in s1:\n",
    "        return s1.count(c)\n",
    "    else:\n",
    "        return -1\n",
    "countCharOccurences(\"Python Programming\",\"k\")\n",
    "\n",
    "def countCharOccurences(s1,c):\n",
    "    count = 0\n",
    "    for ch in s1:\n",
    "        if ch == c:\n",
    "            count+=1\n",
    "    return count\n",
    "countCharOccurences(\"abcabcddcba\",\"a\")\n",
    "\n",
    "def countCharOccurences(s1,c):\n",
    "    return s1.count(c)\n",
    "countCharOccurences(\"Python Programming\",\"Py\")\n",
    "\n",
    "# Function to find the number of occerences of a substring\n",
    "#\"abcabcddcbaaaa\", \"ab\" --> 2\n",
    "#\"abcabcddcbaaaa\", \"aa\" --> 3\n",
    "\n",
    "def countCharOccurences(s,sb):\n",
    "    results = 0\n",
    "    sub_len = len(sb)\n",
    "    for i in range(len(s)):\n",
    "        if s[i:i+sub_len] == sb:\n",
    "            results += 1\n",
    "    return results\n",
    "countCharOccurences(\"abcabcddcbaaaa\",\"aa\")"
   ]
  },
  {
   "cell_type": "code",
   "execution_count": 1,
   "metadata": {},
   "outputs": [
    {
     "data": {
      "text/plain": [
       "[1, 2, 3, 4, 5, 6]"
      ]
     },
     "execution_count": 1,
     "metadata": {},
     "output_type": "execute_result"
    }
   ],
   "source": [
    "s = \"1 2 3 4 5 6\"\n",
    "li = s.split()\n",
    "numberList = []\n",
    "for i in li:\n",
    "    numberList.append(int(i))\n",
    "numberList"
   ]
  },
  {
   "cell_type": "code",
   "execution_count": 2,
   "metadata": {},
   "outputs": [
    {
     "name": "stdout",
     "output_type": "stream",
     "text": [
      "5\n",
      "Harry\n",
      "37.21\n",
      "Berry\n",
      "37.21\n",
      "Tina\n",
      "37.2\n",
      "Akriti\n",
      "41\n",
      "Harsh\n",
      "39\n",
      "Berry\n",
      "Harry\n"
     ]
    }
   ],
   "source": [
    "n=[]\n",
    "r=[]\n",
    "for i in range(int(input())):\n",
    "    n.append(input())\n",
    "    r.append(float(input()))\n",
    "m=min(r)\n",
    "re=[]\n",
    "for i in range(len(r)):\n",
    "    if r[i]==m :r[i]=1000000000\n",
    "m=min(r)\n",
    "for i in range(len(r)):\n",
    "    if r[i]==m:re.append(n[i]) \n",
    "re.sort()\n",
    "for i in re :print(i)"
   ]
  },
  {
   "cell_type": "markdown",
   "metadata": {},
   "source": [
    "### 14 June practice test problems"
   ]
  },
  {
   "cell_type": "code",
   "execution_count": 1,
   "metadata": {},
   "outputs": [
    {
     "name": "stdout",
     "output_type": "stream",
     "text": [
      "-1\n",
      "-1\n"
     ]
    }
   ],
   "source": [
    "li=[-1,-2,2,3]\n",
    "li.sort()\n",
    "\n",
    "pl = []\n",
    "for i in li:\n",
    "    pl.append(abs(i))\n",
    "pl.sort()\n",
    "if pl[0] in li:\n",
    "    print(pl[0])\n",
    "else:\n",
    "    print(-pl[0])\n",
    "    \n",
    "#for lesser value\n",
    "#......same for loop\n",
    "if -pl[0] in li:\n",
    "    print (-pl[0])\n",
    "else:\n",
    "    print(pl[0])"
   ]
  },
  {
   "cell_type": "code",
   "execution_count": null,
   "metadata": {},
   "outputs": [],
   "source": []
  }
 ],
 "metadata": {
  "kernelspec": {
   "display_name": "Python 3",
   "language": "python",
   "name": "python3"
  },
  "language_info": {
   "codemirror_mode": {
    "name": "ipython",
    "version": 3
   },
   "file_extension": ".py",
   "mimetype": "text/x-python",
   "name": "python",
   "nbconvert_exporter": "python",
   "pygments_lexer": "ipython3",
   "version": "3.7.3"
  }
 },
 "nbformat": 4,
 "nbformat_minor": 2
}
