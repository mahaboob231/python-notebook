{
 "cells": [
  {
   "cell_type": "markdown",
   "metadata": {},
   "source": [
    "### Markdown Basics\n",
    "* **Bold** *italic* <br>\n",
    "* **bold and _italic_**\n",
    "* ***Bold \n",
    "* normal text\n",
    "  * sublist 1\n",
    "  * sublist 2\n",
    "  \n",
    "  \n",
    "  > 1. Ordered list element 1\n",
    "  > 2. ordered list element 2\n",
    "\n",
    "- [ ] Option 1\n",
    "- [ ] Option 2\n",
    "- [x] Option 3\n",
    "\n",
    "<https://google.com>\n",
    "\n",
    "[Jupyter Logo](Jupyterlogo.png)\n",
    "\n",
    "![Jupyter Logo](Jupyterlogo.png)\n",
    "\n",
    "<img src=\"Jupyterlogo.png\" style=\"float:left\">\n",
    "\n",
    "\n"
   ]
  },
  {
   "cell_type": "code",
   "execution_count": null,
   "metadata": {},
   "outputs": [],
   "source": []
  },
  {
   "cell_type": "markdown",
   "metadata": {},
   "source": [
    "## Python Basics\n",
    "### Python version 3.7\n",
    "- Scripting\n",
    "- Object Oriented\n",
    "- Functional"
   ]
  },
  {
   "cell_type": "code",
   "execution_count": 9,
   "metadata": {},
   "outputs": [
    {
     "name": "stdout",
     "output_type": "stream",
     "text": [
      "Good afternoon !||Hello Python\n"
     ]
    }
   ],
   "source": [
    "# python comments\n",
    "\n",
    "\n",
    "print(\"Good afternoon\",\"!\",end=\"||\") # basic output\n",
    "print(\"Hello Python\")\n",
    "\n"
   ]
  },
  {
   "cell_type": "code",
   "execution_count": null,
   "metadata": {},
   "outputs": [],
   "source": []
  },
  {
   "cell_type": "markdown",
   "metadata": {},
   "source": [
    "### Assignment"
   ]
  },
  {
   "cell_type": "code",
   "execution_count": 15,
   "metadata": {},
   "outputs": [
    {
     "name": "stdout",
     "output_type": "stream",
     "text": [
      "122 234 345\n"
     ]
    }
   ],
   "source": [
    "n1 = 123456 # Single Variable Assignment\n",
    "\n",
    "n2= n3 = n4 = n1 # Multi Variable Assignment  of the same value\n",
    "\n",
    "a, b, c = 122, 234, 345 # Multi Variable Assignment with different values\n",
    "\n",
    "print(a,b,c)\n"
   ]
  },
  {
   "cell_type": "code",
   "execution_count": null,
   "metadata": {},
   "outputs": [],
   "source": []
  },
  {
   "cell_type": "markdown",
   "metadata": {},
   "source": [
    "### Arithmetic Operations\n",
    "- +\n",
    "- -\n",
    "- *\n",
    "- /\n",
    "- %\n",
    "- **"
   ]
  },
  {
   "cell_type": "code",
   "execution_count": 27,
   "metadata": {},
   "outputs": [
    {
     "data": {
      "text/plain": [
       "10000000000000000000000000000000000000000000000000000000000000000000000000000000000"
      ]
     },
     "execution_count": 27,
     "metadata": {},
     "output_type": "execute_result"
    }
   ],
   "source": [
    "n1 % 11\n",
    "\n",
    "n3 = n2 ** 123456\n",
    "atoms = 10 ** 82\n",
    "type(n3)\n",
    "len(str(n3))\n",
    "atoms"
   ]
  },
  {
   "cell_type": "code",
   "execution_count": null,
   "metadata": {},
   "outputs": [],
   "source": []
  },
  {
   "cell_type": "markdown",
   "metadata": {},
   "source": [
    "### Data Types\n",
    "- int\n",
    "- float\n",
    "- string"
   ]
  },
  {
   "cell_type": "code",
   "execution_count": 35,
   "metadata": {},
   "outputs": [
    {
     "data": {
      "text/plain": [
       "'22'"
      ]
     },
     "execution_count": 35,
     "metadata": {},
     "output_type": "execute_result"
    }
   ],
   "source": [
    "s1 = \"Pyrhon\"\n",
    "type(s1)\n",
    "f1 = 22.32423\n",
    "type(f1)\n",
    "\n",
    "int(f1)\n",
    "str(int(f1))\n"
   ]
  },
  {
   "cell_type": "markdown",
   "metadata": {},
   "source": [
    "### Conditionals\n"
   ]
  },
  {
   "cell_type": "code",
   "execution_count": 39,
   "metadata": {},
   "outputs": [
    {
     "name": "stdout",
     "output_type": "stream",
     "text": [
      "TRUE\n"
     ]
    }
   ],
   "source": [
    "if atoms < 10 ** 99:\n",
    "    print(\"TRUE\")\n",
    "else:\n",
    "    print(\"FALSE\")\n"
   ]
  },
  {
   "cell_type": "code",
   "execution_count": 40,
   "metadata": {},
   "outputs": [
    {
     "name": "stdout",
     "output_type": "stream",
     "text": [
      "Odd\n"
     ]
    }
   ],
   "source": [
    "# Check if a number is Even\n",
    "\n",
    "n=123\n",
    "if n % 2 == 0:\n",
    "    print(\"Even\")\n",
    "else:\n",
    "    print(\"Odd\")"
   ]
  },
  {
   "cell_type": "code",
   "execution_count": 43,
   "metadata": {},
   "outputs": [
    {
     "name": "stdout",
     "output_type": "stream",
     "text": [
      "Enter the first number34\n",
      "Enter the second number44\n",
      "Enter the third number453451\n",
      "453451 is the greatest\n"
     ]
    }
   ],
   "source": [
    "# Find the greatest of three numbers\n",
    "\n",
    "n1=int(input(\"Enter the first number\"))\n",
    "n2=int(input(\"Enter the second number\"))\n",
    "n3=int(input(\"Enter the third number\"))\n",
    "if n1>n2 and n1>n3:\n",
    "       print(n1, \"is the greatest\")\n",
    "elif n2 > n3:\n",
    "       print(n2, \"is the greatest\")\n",
    "else:\n",
    "       print(n3, \"is the greatest\")"
   ]
  },
  {
   "cell_type": "code",
   "execution_count": 57,
   "metadata": {},
   "outputs": [
    {
     "name": "stdout",
     "output_type": "stream",
     "text": [
      "Enter a number1996\n",
      "1996  is a Leap year\n"
     ]
    }
   ],
   "source": [
    "# Check if an year is a leap year\n",
    "\n",
    "a = int(input(\"Enter a number\"))\n",
    "if (a%400 == 0 or (a%100 !=0 and a%4 ==0)):\n",
    "    print(a,\" is a Leap year\")\n",
    "else:\n",
    "    print(a,\" is not a Leap year\")"
   ]
  },
  {
   "cell_type": "code",
   "execution_count": 47,
   "metadata": {},
   "outputs": [
    {
     "name": "stdout",
     "output_type": "stream",
     "text": [
      "enter a number34\n",
      "enter a lower bound12\n",
      "enter a upper bound565\n",
      "True\n"
     ]
    }
   ],
   "source": [
    "# Check if a number exists in a given range(inclusive)\n",
    "\n",
    "n1=int(input(\"enter a number\"))\n",
    "lb=int(input(\"enter a lower bound\"))\n",
    "up=int(input(\"enter a upper bound\"))\n",
    "if n1>=lb and n1<=up:\n",
    "    print(\"True\")\n",
    "else:\n",
    "    print(\"False\")\n"
   ]
  },
  {
   "cell_type": "code",
   "execution_count": 45,
   "metadata": {},
   "outputs": [
    {
     "name": "stdout",
     "output_type": "stream",
     "text": [
      "Enter a number121324\n",
      "6  digits in a  121324  number\n"
     ]
    }
   ],
   "source": [
    "# Calculate the number of digits in a number\n",
    "n=input(\"Enter a number\")\n",
    "v=len(n)\n",
    "print(v,\" digits in a \",n,\" number\")\n",
    "    \n",
    "    \n"
   ]
  },
  {
   "cell_type": "code",
   "execution_count": 53,
   "metadata": {},
   "outputs": [
    {
     "name": "stdout",
     "output_type": "stream",
     "text": [
      "enter a number10004\n",
      " enter a number less than are equal to 1000\n"
     ]
    }
   ],
   "source": [
    "# Check if a number is a factor of 1000\n",
    "n=int(input(\"enter a number\"))\n",
    "if n<=1000:\n",
    "    if 1000 % n == 0:\n",
    "        print(n,\" is a factor of 1000\")\n",
    "    else:\n",
    "        print(n,\" is not a factor of 1000\")\n",
    "else:\n",
    "    print(\" enter a number less than are equal to 1000\")"
   ]
  },
  {
   "cell_type": "code",
   "execution_count": 52,
   "metadata": {},
   "outputs": [
    {
     "name": "stdout",
     "output_type": "stream",
     "text": [
      "enter a number235\n",
      "235  is not a multiple of 10\n"
     ]
    }
   ],
   "source": [
    "# Check if a number is a multiple of 10\n",
    "n = int(input(\"enter a number\"))\n",
    "if n % 10 == 0:\n",
    "    print(n,\" is a multiple of 10\")\n",
    "else:\n",
    "    print(n,\" is not a multiple of 10\")"
   ]
  },
  {
   "cell_type": "code",
   "execution_count": null,
   "metadata": {},
   "outputs": [],
   "source": [
    "# Check if given string is equal to a number\n",
    "s1=input(\"enter a string\")\n",
    "n1=int(input(\"Enter a number\"))\n",
    "if str(n1)==s1:\n",
    "    print(\"Same\")\n",
    "else:\n",
    "    print(\"not equal\")"
   ]
  },
  {
   "cell_type": "code",
   "execution_count": null,
   "metadata": {},
   "outputs": [],
   "source": [
    "# Calculate the Square root of a number without function\n"
   ]
  },
  {
   "cell_type": "code",
   "execution_count": 58,
   "metadata": {},
   "outputs": [
    {
     "name": "stdout",
     "output_type": "stream",
     "text": [
      "enter a year2014\n",
      "31536000000000000\n"
     ]
    }
   ],
   "source": [
    "# Calculate the number of nano seconds in a given year(considering leap year logic)\n",
    "a=int(input(\"enter a year\"))\n",
    "if (a%400 == 0 or (a%100 !=0 and a%4 ==0)):\n",
    "    print(366*24*60*60*(10**9))\n",
    "else:\n",
    "    print(365*24*60*60*(10**9))"
   ]
  },
  {
   "cell_type": "code",
   "execution_count": null,
   "metadata": {},
   "outputs": [],
   "source": []
  },
  {
   "cell_type": "code",
   "execution_count": null,
   "metadata": {},
   "outputs": [],
   "source": []
  }
 ],
 "metadata": {
  "kernelspec": {
   "display_name": "Python 3",
   "language": "python",
   "name": "python3"
  },
  "language_info": {
   "codemirror_mode": {
    "name": "ipython",
    "version": 3
   },
   "file_extension": ".py",
   "mimetype": "text/x-python",
   "name": "python",
   "nbconvert_exporter": "python",
   "pygments_lexer": "ipython3",
   "version": "3.7.3"
  }
 },
 "nbformat": 4,
 "nbformat_minor": 2
}
